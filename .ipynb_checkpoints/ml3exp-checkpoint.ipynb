{
 "cells": [
  {
   "cell_type": "code",
   "execution_count": null,
   "id": "73ef85f1",
   "metadata": {},
   "outputs": [],
   "source": [
    "import pandas as pd\n",
    "import matplotlib.pyplot as plt\n",
    "df = pd.read_csv(\"Advertising.csv\")\n",
    "df.head()\n",
    "df.describe()\n",
    "df.isnull().sum()\n",
    "df.shape\n",
    "X = df[[\"TV\", \"Radio\", \"Newspaper\"]]\n",
    "X\n",
    "Y = df[\"Sales\"]\n",
    "Y\n",
    "from sklearn.model_selection import train_test_split\n",
    "X_train,X_test,Y_train,Y_test = train_test_split(X,Y,test_size = 0.2,random_state = 101)\n",
    "from sklearn.linear_model import LinearRegression\n",
    "l = LinearRegression()\n",
    "l.fit(X_train,Y_train)\n",
    "Y_pred = l.predict(X_test)\n",
    "X_test\n",
    "print(\"Regression slope: \",l.coef_[0])\n",
    "print(\"Regression Intercept: \",l.intercept_)\n",
    "Y_pred\n",
    "from sklearn import metrics\n",
    "MSE = metrics.mean_squared_error(Y_test,Y_pred)\n",
    "print(\"MSE is {}\".format(MSE))\n",
    "r2 = metrics.r2_score(Y_test,Y_pred)\n",
    "print(\"R squared error is {}\".format(r2))\n",
    "l.predict([[150.3,240.5,234.5]])"
   ]
  },
  {
   "cell_type": "code",
   "execution_count": null,
   "id": "36de098f",
   "metadata": {},
   "outputs": [],
   "source": []
  }
 ],
 "metadata": {
  "kernelspec": {
   "display_name": "Python 3 (ipykernel)",
   "language": "python",
   "name": "python3"
  },
  "language_info": {
   "codemirror_mode": {
    "name": "ipython",
    "version": 3
   },
   "file_extension": ".py",
   "mimetype": "text/x-python",
   "name": "python",
   "nbconvert_exporter": "python",
   "pygments_lexer": "ipython3",
   "version": "3.9.7"
  }
 },
 "nbformat": 4,
 "nbformat_minor": 5
}
